{
 "cells": [
  {
   "cell_type": "code",
   "execution_count": 1,
   "metadata": {},
   "outputs": [],
   "source": [
    "import os\n",
    "from dotenv import load_dotenv"
   ]
  },
  {
   "cell_type": "code",
   "execution_count": 2,
   "metadata": {},
   "outputs": [
    {
     "data": {
      "text/plain": [
       "True"
      ]
     },
     "execution_count": 2,
     "metadata": {},
     "output_type": "execute_result"
    }
   ],
   "source": [
    "load_dotenv()"
   ]
  },
  {
   "cell_type": "code",
   "execution_count": 7,
   "metadata": {},
   "outputs": [],
   "source": [
    "from tavily import TavilyClient \n",
    "tavily = TavilyClient(api_key=os.getenv(\"TAVILY_API_KEY\"))\n"
   ]
  },
  {
   "cell_type": "code",
   "execution_count": 8,
   "metadata": {},
   "outputs": [],
   "source": [
    "search_resp = tavily.search(\"What is meant by nuclear fission ? \", max_results = 3, search_depth=\"advanced\")"
   ]
  },
  {
   "cell_type": "code",
   "execution_count": 9,
   "metadata": {},
   "outputs": [
    {
     "name": "stdout",
     "output_type": "stream",
     "text": [
      "{'query': 'What is meant by nuclear fission ? ', 'follow_up_questions': None, 'answer': None, 'images': [], 'results': [{'url': 'https://en.wikipedia.org/wiki/Nuclear_fission', 'title': 'Nuclear fission - Wikipedia', 'content': '|\\nNuclear fission is a reaction in which the nucleus of an atom splits into two or more smaller nuclei. The fission process often produces gamma photons, and releases a very large amount of energy even by the energetic standards of radioactive decay. [...] Fission is a form of nuclear transmutation because the resulting fragments (or daughter atoms) are not the same element as the original parent atom. The two (or more) nuclei produced are most often of comparable but slightly different sizes, typically with a mass ratio of products of about 3 to 2, for common fissile isotopes.[1][2] Most fissions are binary fissions (producing two charged fragments), but occasionally (2 to 4 times per 1000 events), three positively charged fragments are [...] Younes and Loveland define fission as, \"...a collective motion of the protons and neutrons that make up the nucleus, and as such it is distinguishable from other phenomena that break up the nucleus. Nuclear fission is an extreme example of large-amplitude collective motion that results in the division of a parent nucleus into two or more fragment nuclei. The fission process can occur spontaneously, or it can be induced by an incident particle.\" The energy from a fission reaction is produced by', 'score': 0.903098, 'raw_content': None}, {'url': 'https://www.energy.gov/science/doe-explainsnuclear-fission', 'title': 'DOE Explains...Nuclear Fission - Department of Energy', 'content': 'Nuclear fission is the process where the\\xa0nucleus of an atom splits into two or more smaller nuclei and other particles. These particles can include\\xa0neutrons, alpha particles (helium nuclei), beta particles (electrons), and gamma rays (which consist of particles of light, or\\xa0photons). Fission was discovered in 1938 by Otto Hahn, Lise Meitner, and Fritz Strassmann by bombarding elements with neutrons. [...] A nuclear fission reaction is a process that begins when a neutron or other particle strikes a nucleus. This creates fragments of the original nucleus. It also creates new neutrons that can then collide with other nuclei to cause more nuclear reactions.\\nInfographic from the U.S. Nuclear Regulatory Commission 2018-2019 Information Digest, NUREG 1350, Volume 30, August 2018.', 'score': 0.8652358, 'raw_content': None}, {'url': 'https://byjus.com/physics/what-is-nuclear-fission/', 'title': \"Nuclear Fission Definition - BYJU'S\", 'content': 'When the nucleus of an atom splits into lighter nuclei through a nuclear reaction the process is termed as nuclear fission. This decay can be natural spontaneous splitting by radioactive decay, or can actually be simulated in a lab by achieving necessary conditions (bombarding with neutrinos). The resulting fragments tend to have a combined mass which is less than the original. The missing mass is what is converted into nuclear energy in the above reaction. Therefore, nuclear fission is defined [...] Before we understand what is nuclear fission reaction, let us learn what is meant by nuclear reaction. The reaction that involves the change in the identity or characteristics of an atomic nucleus, induced by bombarding it with an energetic particle is known as a nuclear reaction. The bombarding particle may either be an alpha particle, a gamma-ray photon, a neutron, a proton, or a heavy ion. In any case, the bombarding particle must have enough energy to approach the positively charged nucleus [...] Top 15 most important and expected questions on nuclei in Hindi\\n \\n2,391\\nFrequently Asked Questions – FAQs\\nQ1\\nWhat Is nuclear fission?\\nNuclear Fission is a type of nuclear reaction in which the splitting of a nucleus into two daughter nuclei takes place.\\nQ2\\nWhat are the types of nuclear reactions?\\nThe following are the types of nuclear reactions:', 'score': 0.8622012, 'raw_content': None}], 'response_time': 1.37}\n"
     ]
    }
   ],
   "source": [
    "print(search_resp)"
   ]
  },
  {
   "cell_type": "code",
   "execution_count": 13,
   "metadata": {},
   "outputs": [
    {
     "name": "stdout",
     "output_type": "stream",
     "text": [
      "['Nuclear fission - Wikipedia', 'https://en.wikipedia.org/wiki/Nuclear_fission', '|\\nNuclear fission is a reaction in which the nucleus of an atom splits into two or more smaller nuclei. The fission process often produces gamma photons, and releases a very large amount of energy even by the energetic standards of radioactive decay. [...] Fission is a form of nuclear transmutation because the resulting fragments (or daughter atoms) are not the same element as the original parent atom. The two (or more) nuclei produced are most often of comparable but slightly different sizes, typically with a mass ratio of products of about 3 to 2, for common fissile isotopes.[1][2] Most fissions are binary fissions (producing two charged fragments), but occasionally (2 to 4 times per 1000 events), three positively charged fragments are [...] Younes and Loveland define fission as, \"...a collective motion of the protons and neutrons that make up the nucleus, and as such it is distinguishable from other phenomena that break up the nucleus. Nuclear fission is an extreme example of large-amplitude collective motion that results in the division of a parent nucleus into two or more fragment nuclei. The fission process can occur spontaneously, or it can be induced by an incident particle.\" The energy from a fission reaction is produced by', 0.903098]\n",
      "['DOE Explains...Nuclear Fission - Department of Energy', 'https://www.energy.gov/science/doe-explainsnuclear-fission', 'Nuclear fission is the process where the\\xa0nucleus of an atom splits into two or more smaller nuclei and other particles. These particles can include\\xa0neutrons, alpha particles (helium nuclei), beta particles (electrons), and gamma rays (which consist of particles of light, or\\xa0photons). Fission was discovered in 1938 by Otto Hahn, Lise Meitner, and Fritz Strassmann by bombarding elements with neutrons. [...] A nuclear fission reaction is a process that begins when a neutron or other particle strikes a nucleus. This creates fragments of the original nucleus. It also creates new neutrons that can then collide with other nuclei to cause more nuclear reactions.\\nInfographic from the U.S. Nuclear Regulatory Commission 2018-2019 Information Digest, NUREG 1350, Volume 30, August 2018.', 0.8652358]\n",
      "[\"Nuclear Fission Definition - BYJU'S\", 'https://byjus.com/physics/what-is-nuclear-fission/', 'When the nucleus of an atom splits into lighter nuclei through a nuclear reaction the process is termed as nuclear fission. This decay can be natural spontaneous splitting by radioactive decay, or can actually be simulated in a lab by achieving necessary conditions (bombarding with neutrinos). The resulting fragments tend to have a combined mass which is less than the original. The missing mass is what is converted into nuclear energy in the above reaction. Therefore, nuclear fission is defined [...] Before we understand what is nuclear fission reaction, let us learn what is meant by nuclear reaction. The reaction that involves the change in the identity or characteristics of an atomic nucleus, induced by bombarding it with an energetic particle is known as a nuclear reaction. The bombarding particle may either be an alpha particle, a gamma-ray photon, a neutron, a proton, or a heavy ion. In any case, the bombarding particle must have enough energy to approach the positively charged nucleus [...] Top 15 most important and expected questions on nuclei in Hindi\\n \\n2,391\\nFrequently Asked Questions – FAQs\\nQ1\\nWhat Is nuclear fission?\\nNuclear Fission is a type of nuclear reaction in which the splitting of a nucleus into two daughter nuclei takes place.\\nQ2\\nWhat are the types of nuclear reactions?\\nThe following are the types of nuclear reactions:', 0.8622012]\n"
     ]
    }
   ],
   "source": [
    "processed_results = []\n",
    "for result in search_resp[\"results\"]:\n",
    "    processed_results.append([\n",
    "        result.get(\"title\", \"Untitled\"),\n",
    "        result.get(\"url\", \"\"),\n",
    "        result.get(\"content\", \"\"),\n",
    "        result.get(\"score\", 0.0)\n",
    "        ]\n",
    "    )\n",
    "\n",
    "for res in processed_results:\n",
    "    print(res)"
   ]
  },
  {
   "cell_type": "code",
   "execution_count": 14,
   "metadata": {},
   "outputs": [],
   "source": [
    "import google.generativeai as genai"
   ]
  },
  {
   "cell_type": "code",
   "execution_count": null,
   "metadata": {},
   "outputs": [],
   "source": []
  }
 ],
 "metadata": {
  "kernelspec": {
   "display_name": "Python 3",
   "language": "python",
   "name": "python3"
  },
  "language_info": {
   "codemirror_mode": {
    "name": "ipython",
    "version": 3
   },
   "file_extension": ".py",
   "mimetype": "text/x-python",
   "name": "python",
   "nbconvert_exporter": "python",
   "pygments_lexer": "ipython3",
   "version": "3.11.4"
  }
 },
 "nbformat": 4,
 "nbformat_minor": 2
}
